{
 "cells": [
  {
   "cell_type": "markdown",
   "metadata": {},
   "source": [
    "# Secret Santa\n",
    "\n",
    "### Objectives\n",
    "1. Read `participants.csv` where eachand assign a secret santa assignment for each participant, given the following constraints:\n",
    "    - each participant cannot be assigned themself nor significant other\n",
    "    - each participant can only have one assignement and be assigned once\n",
    "2. Text each participant with instructions and their secret santa assignment"
   ]
  },
  {
   "cell_type": "code",
   "execution_count": 3,
   "metadata": {
    "collapsed": true
   },
   "outputs": [],
   "source": [
    "import pandas as pd\n",
    "import numpy as np\n",
    "from twilio.rest import Client"
   ]
  },
  {
   "cell_type": "code",
   "execution_count": 8,
   "metadata": {
    "collapsed": false
   },
   "outputs": [
    {
     "data": {
      "text/plain": [
       "Index([u'couple_id', u'name', u'phone_number'], dtype='object')"
      ]
     },
     "execution_count": 8,
     "metadata": {},
     "output_type": "execute_result"
    }
   ],
   "source": [
    "participants = pd.read_csv('participants.csv', index_col='id')\n",
    "participants.columns"
   ]
  },
  {
   "cell_type": "markdown",
   "metadata": {},
   "source": [
    "### 1. make assignments"
   ]
  },
  {
   "cell_type": "code",
   "execution_count": 9,
   "metadata": {
    "collapsed": false
   },
   "outputs": [
    {
     "name": "stderr",
     "output_type": "stream",
     "text": [
      "/Users/jojensen/anaconda/lib/python2.7/site-packages/ipykernel/__main__.py:27: DeprecationWarning: \n",
      ".ix is deprecated. Please use\n",
      ".loc for label based indexing or\n",
      ".iloc for positional indexing\n",
      "\n",
      "See the documentation here:\n",
      "http://pandas.pydata.org/pandas-docs/stable/indexing.html#ix-indexer-is-deprecated\n"
     ]
    },
    {
     "data": {
      "text/plain": [
       "Index([u'couple_id', u'name', u'phone_number', u'assigned_id',\n",
       "       u'assigned_couple_id', u'assigned_name'],\n",
       "      dtype='object')"
      ]
     },
     "execution_count": 9,
     "metadata": {},
     "output_type": "execute_result"
    }
   ],
   "source": [
    "make_assignments = True\n",
    "while make_assignments:\n",
    "    id_l = participants.index.tolist()\n",
    "    participants['assigned_id'] = None\n",
    "    participants['assigned_couple_id'] = None\n",
    "    participants['assigned_name'] = None\n",
    "\n",
    "    for index, row in participants.iterrows():\n",
    "        # escape before hitting infite loop scenario\n",
    "        if (len(id_l) == 1) & (id_l[0] == index):\n",
    "            break\n",
    "        \n",
    "        needs_assignment = True\n",
    "\n",
    "        while needs_assignment:\n",
    "            rand_id = np.random.randint(low=0,high=len(id_l))\n",
    "            participants.loc[index, 'assigned_id'] = id_l[rand_id]\n",
    "            participants.loc[index, 'assigned_couple_id'] = participants.couple_id.loc[id_l[rand_id]]      \n",
    "            participants.loc[index, 'assigned_name'] = participants.name.loc[id_l[rand_id]]\n",
    "\n",
    "            if participants.loc[index, 'couple_id'] != participants.loc[index, 'assigned_couple_id']:\n",
    "                id_l.remove(id_l[rand_id])\n",
    "                needs_assignment = False\n",
    "        \n",
    "        # escape before hitting infite loop scenario\n",
    "        if (len(id_l) == 2):\n",
    "            remaining_couples_l = participants.couple_id.ix[id_l].tolist()\n",
    "            if (remaining_couples_l[0] == remaining_couples_l[1]):\n",
    "                break\n",
    "    \n",
    "    if len(participants[participants.assigned_id.isnull()]) == 0:\n",
    "        make_assignments = False\n",
    "        \n",
    "        \n",
    "\n",
    "participants.columns"
   ]
  },
  {
   "cell_type": "code",
   "execution_count": 10,
   "metadata": {
    "collapsed": true
   },
   "outputs": [],
   "source": [
    "# save to csv\n",
    "participants.to_csv('participants_with_assignments.csv')"
   ]
  },
  {
   "cell_type": "markdown",
   "metadata": {},
   "source": [
    "### 2. text instructions and assignments"
   ]
  },
  {
   "cell_type": "code",
   "execution_count": 2,
   "metadata": {
    "collapsed": true
   },
   "outputs": [],
   "source": [
    "with open('twilio_api.txt') as f:\n",
    "    twilio_creds = f.read().split('\\n')\n",
    "    \n",
    "twilio_client = Client(twilio_creds[0], twilio_creds[1])"
   ]
  },
  {
   "cell_type": "code",
   "execution_count": 11,
   "metadata": {
    "collapsed": false
   },
   "outputs": [
    {
     "data": {
      "text/html": [
       "<div>\n",
       "<style>\n",
       "    .dataframe thead tr:only-child th {\n",
       "        text-align: right;\n",
       "    }\n",
       "\n",
       "    .dataframe thead th {\n",
       "        text-align: left;\n",
       "    }\n",
       "\n",
       "    .dataframe tbody tr th {\n",
       "        vertical-align: top;\n",
       "    }\n",
       "</style>\n",
       "<table border=\"1\" class=\"dataframe\">\n",
       "  <thead>\n",
       "    <tr style=\"text-align: right;\">\n",
       "      <th></th>\n",
       "      <th>couple_id</th>\n",
       "      <th>name</th>\n",
       "      <th>phone_number</th>\n",
       "      <th>assigned_id</th>\n",
       "      <th>assigned_couple_id</th>\n",
       "      <th>assigned_name</th>\n",
       "    </tr>\n",
       "    <tr>\n",
       "      <th>id</th>\n",
       "      <th></th>\n",
       "      <th></th>\n",
       "      <th></th>\n",
       "      <th></th>\n",
       "      <th></th>\n",
       "      <th></th>\n",
       "    </tr>\n",
       "  </thead>\n",
       "  <tbody>\n",
       "    <tr>\n",
       "      <th>1</th>\n",
       "      <td>1</td>\n",
       "      <td>Angela</td>\n",
       "      <td>15629004561</td>\n",
       "      <td>11</td>\n",
       "      <td>7</td>\n",
       "      <td>Bruce</td>\n",
       "    </tr>\n",
       "    <tr>\n",
       "      <th>2</th>\n",
       "      <td>1</td>\n",
       "      <td>Josh</td>\n",
       "      <td>15629004561</td>\n",
       "      <td>4</td>\n",
       "      <td>2</td>\n",
       "      <td>Laurie</td>\n",
       "    </tr>\n",
       "    <tr>\n",
       "      <th>3</th>\n",
       "      <td>2</td>\n",
       "      <td>Roy</td>\n",
       "      <td>15629004561</td>\n",
       "      <td>6</td>\n",
       "      <td>3</td>\n",
       "      <td>Shirley (aka Mem)</td>\n",
       "    </tr>\n",
       "    <tr>\n",
       "      <th>4</th>\n",
       "      <td>2</td>\n",
       "      <td>Laurie</td>\n",
       "      <td>15629004561</td>\n",
       "      <td>7</td>\n",
       "      <td>4</td>\n",
       "      <td>Dan</td>\n",
       "    </tr>\n",
       "    <tr>\n",
       "      <th>5</th>\n",
       "      <td>3</td>\n",
       "      <td>Steve (aka FT)</td>\n",
       "      <td>15629004561</td>\n",
       "      <td>8</td>\n",
       "      <td>4</td>\n",
       "      <td>Mia</td>\n",
       "    </tr>\n",
       "  </tbody>\n",
       "</table>\n",
       "</div>"
      ],
      "text/plain": [
       "    couple_id            name  phone_number assigned_id assigned_couple_id  \\\n",
       "id                                                                           \n",
       "1           1          Angela   15629004561          11                  7   \n",
       "2           1            Josh   15629004561           4                  2   \n",
       "3           2             Roy   15629004561           6                  3   \n",
       "4           2          Laurie   15629004561           7                  4   \n",
       "5           3  Steve (aka FT)   15629004561           8                  4   \n",
       "\n",
       "        assigned_name  \n",
       "id                     \n",
       "1               Bruce  \n",
       "2              Laurie  \n",
       "3   Shirley (aka Mem)  \n",
       "4                 Dan  \n",
       "5                 Mia  "
      ]
     },
     "execution_count": 11,
     "metadata": {},
     "output_type": "execute_result"
    }
   ],
   "source": [
    "participants.head()"
   ]
  },
  {
   "cell_type": "code",
   "execution_count": 15,
   "metadata": {
    "collapsed": false
   },
   "outputs": [
    {
     "name": "stdout",
     "output_type": "stream",
     "text": [
      "Sent 1 of 11\n"
     ]
    }
   ],
   "source": [
    "for index, row in participants.iterrows():\n",
    "    twilio_client.messages.create(\n",
    "        to = row['phone_number'],\n",
    "        from_ = twilio_creds[2],\n",
    "        body = '''\n",
    "Hello %s, welcome to Jensen Christmas Scoopganza 2017! \n",
    "\n",
    "ScoopBot here to spread Christmas cheer, and today that means facilitating Secret Santa.\n",
    "\n",
    "The rules of Secret Santa are easy:\n",
    "1. I assign you someone else from the group. Keep it secret, keep it safe (until X-Mas day).\n",
    "2. You buy $15 - $25 worth of shit that will blow their minds.\n",
    "3. On Christmas day, blow their minds with your generousity and thoughtfulness. \n",
    "\n",
    "Hold onto your butt, because your secret santa assignment is:\n",
    "%s\n",
    "\n",
    "If you don't know %s very well, I'd suggest asking Ang or Josh. They might be able to point you in the right direction.\n",
    "\n",
    "Remember don't let %s know you are their secret santa until Christmas day!\n",
    "\n",
    "SCOOP!\n",
    "''' % (row['name'], row['assigned_name'], row['assigned_name'], row['assigned_name'])\n",
    "    )\n",
    "    \n",
    "    print 'Sent %s of %s' % (index, len(participants))\n",
    "    \n",
    "    break"
   ]
  },
  {
   "cell_type": "code",
   "execution_count": null,
   "metadata": {
    "collapsed": true
   },
   "outputs": [],
   "source": [
    "#test\n",
    "twilio_client.messages.create(\n",
    "    to = '1509712219'\n",
    "    from_ = twilio_creds[2]\n",
    "    body = 'TEST'\n",
    ")"
   ]
  }
 ],
 "metadata": {
  "kernelspec": {
   "display_name": "Python 2",
   "language": "python",
   "name": "python2"
  },
  "language_info": {
   "codemirror_mode": {
    "name": "ipython",
    "version": 2
   },
   "file_extension": ".py",
   "mimetype": "text/x-python",
   "name": "python",
   "nbconvert_exporter": "python",
   "pygments_lexer": "ipython2",
   "version": "2.7.13"
  }
 },
 "nbformat": 4,
 "nbformat_minor": 2
}
