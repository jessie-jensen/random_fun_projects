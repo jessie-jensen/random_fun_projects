{
 "cells": [
  {
   "cell_type": "markdown",
   "metadata": {},
   "source": [
    "# Secret Santa\n",
    "\n",
    "### Objectives\n",
    "1. Read `participants.csv` where eachand assign a secret santa assignment for each participant, given the following constraints:\n",
    "    - each participant cannot be assigned themself nor significant other\n",
    "    - each participant can only have one assignement and be assigned once\n",
    "2. Text each participant with instructions and their secret santa assignment"
   ]
  },
  {
   "cell_type": "markdown",
   "metadata": {},
   "source": [
    "### 1. make assignments"
   ]
  },
  {
   "cell_type": "code",
   "execution_count": null,
   "metadata": {},
   "outputs": [],
   "source": [
    "import pandas as pd\n",
    "import numpy as np\n",
    "\n",
    "participants = pd.read_csv('participants.csv', index_col='id')"
   ]
  },
  {
   "cell_type": "code",
   "execution_count": null,
   "metadata": {},
   "outputs": [],
   "source": [
    "make_assignments = True\n",
    "while make_assignments:\n",
    "    id_l = participants.index.tolist()\n",
    "    participants['assigned_id'] = None\n",
    "    participants['assigned_couple_id'] = None\n",
    "    participants['assigned_name'] = None\n",
    "\n",
    "    for index, row in participants.iterrows():\n",
    "        # escape before hitting infite loop scenario\n",
    "        if (len(id_l) == 1) & (id_l[0] == index):\n",
    "            break\n",
    "        \n",
    "        needs_assignment = True\n",
    "\n",
    "        while needs_assignment:\n",
    "            rand_id = np.random.randint(low=0,high=len(id_l))\n",
    "            participants.loc[index, 'assigned_id'] = id_l[rand_id]\n",
    "            participants.loc[index, 'assigned_couple_id'] = participants.couple_id.loc[id_l[rand_id]]      \n",
    "            participants.loc[index, 'assigned_name'] = participants.name.loc[id_l[rand_id]]\n",
    "\n",
    "            if participants.loc[index, 'couple_id'] != participants.loc[index, 'assigned_couple_id']:\n",
    "                id_l.remove(id_l[rand_id])\n",
    "                needs_assignment = False\n",
    "        \n",
    "        # escape before hitting infite loop scenario\n",
    "        if (len(id_l) == 2):\n",
    "            remaining_couples_l = participants.couple_id.ix[id_l].tolist()\n",
    "            if (remaining_couples_l[0] == remaining_couples_l[1]):\n",
    "                break\n",
    "    \n",
    "    if len(participants[participants.assigned_id.isnull()]) == 0:\n",
    "        make_assignments = False\n",
    "        \n",
    "        \n",
    "\n",
    "participants.columns"
   ]
  },
  {
   "cell_type": "code",
   "execution_count": null,
   "metadata": {},
   "outputs": [],
   "source": [
    "# save to csv\n",
    "participants.to_csv('participants_with_assignments.csv')"
   ]
  },
  {
   "cell_type": "markdown",
   "metadata": {},
   "source": [
    "### 2. text instructions and assignments"
   ]
  },
  {
   "cell_type": "code",
   "execution_count": null,
   "metadata": {},
   "outputs": [],
   "source": [
    "import pandas as pd\n",
    "import requests\n",
    "import time\n",
    "import datetime as dt\n",
    "\n",
    "with open('textbelt_api.txt') as f:\n",
    "    textbelt_cred = f.read().split('\\n')\n",
    "\n",
    "participants = pd.read_csv('participants_with_assignments.csv', index_col='id')\n",
    "ammount = 30"
   ]
  },
  {
   "cell_type": "code",
   "execution_count": null,
   "metadata": {},
   "outputs": [],
   "source": [
    "def build_text_message(name, assigned_name, ammount):\n",
    "    msg_s = '''Hello {}, welcome to Jensen Christmas Scoopganza {}! ScoopBot 3000 here to spread Christmas cheer with Secret Santa. SCOOP!\n",
    "\n",
    "Here's the deal:\n",
    "1. I assign you someone.\n",
    "2. You buy them a gift that is about ${}. But more importantly, the gift should blow their minds with your thoughtfulness.\n",
    "3. On Christmas day, they get the gift. They feel extra loved.\n",
    "\n",
    "Hold onto your butt, because your secret santa assignment is:\n",
    "{}'''.format(name, dt.datetime.now().year, ammount, assigned_name)\n",
    "    \n",
    "    print('Characters:\\t\\t',len(msg_s), '\\nText Messages Required:\\t', len(msg_s)/153)\n",
    "    return msg_s\n",
    "\n",
    "# test\n",
    "build_text_message('Bob', 'Bobette', ammount)"
   ]
  },
  {
   "cell_type": "code",
   "execution_count": null,
   "metadata": {},
   "outputs": [],
   "source": [
    "for index, row in participants.iterrows():\n",
    "    msg_s = build_text_message(row['name'], row['assigned_name'], ammount)\n",
    "    \n",
    "    response = requests.post('https://textbelt.com/text', {\n",
    "      'phone': row['phone_number'],\n",
    "      'message': msg_s,\n",
    "      'key': textbelt_cred[0],\n",
    "    })\n",
    "        \n",
    "    print(index, ' of ', len(participants))\n",
    "    print(response.text)\n",
    "    print('To {}; {}\\n'.format(row['name'], row['phone_number']))\n",
    "    \n",
    "    time.sleep(4)"
   ]
  }
 ],
 "metadata": {
  "kernelspec": {
   "display_name": "Python 3",
   "language": "python",
   "name": "python3"
  },
  "language_info": {
   "codemirror_mode": {
    "name": "ipython",
    "version": 3
   },
   "file_extension": ".py",
   "mimetype": "text/x-python",
   "name": "python",
   "nbconvert_exporter": "python",
   "pygments_lexer": "ipython3",
   "version": "3.6.4"
  }
 },
 "nbformat": 4,
 "nbformat_minor": 2
}
