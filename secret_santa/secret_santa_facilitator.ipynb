{
 "cells": [
  {
   "cell_type": "markdown",
   "metadata": {},
   "source": [
    "# Secret Santa\n",
    "\n",
    "### Objectives\n",
    "1. Read `participants.csv` where eachand assign a secret santa assignment for each participant, given the following constraints:\n",
    "    - each participant cannot be assigned themself nor significant other\n",
    "    - each participant can only have one assignement and be assigned once\n",
    "2. Text each participant with instructions and their secret santa assignment"
   ]
  },
  {
   "cell_type": "markdown",
   "metadata": {},
   "source": [
    "### 1. make assignments"
   ]
  },
  {
   "cell_type": "code",
   "execution_count": null,
   "metadata": {
    "collapsed": true
   },
   "outputs": [],
   "source": [
    "import pandas as pd\n",
    "import numpy as np\n",
    "\n",
    "participants = pd.read_csv('participants.csv', index_col='id')"
   ]
  },
  {
   "cell_type": "code",
   "execution_count": null,
   "metadata": {
    "collapsed": false
   },
   "outputs": [],
   "source": [
    "make_assignments = True\n",
    "while make_assignments:\n",
    "    id_l = participants.index.tolist()\n",
    "    participants['assigned_id'] = None\n",
    "    participants['assigned_couple_id'] = None\n",
    "    participants['assigned_name'] = None\n",
    "\n",
    "    for index, row in participants.iterrows():\n",
    "        # escape before hitting infite loop scenario\n",
    "        if (len(id_l) == 1) & (id_l[0] == index):\n",
    "            break\n",
    "        \n",
    "        needs_assignment = True\n",
    "\n",
    "        while needs_assignment:\n",
    "            rand_id = np.random.randint(low=0,high=len(id_l))\n",
    "            participants.loc[index, 'assigned_id'] = id_l[rand_id]\n",
    "            participants.loc[index, 'assigned_couple_id'] = participants.couple_id.loc[id_l[rand_id]]      \n",
    "            participants.loc[index, 'assigned_name'] = participants.name.loc[id_l[rand_id]]\n",
    "\n",
    "            if participants.loc[index, 'couple_id'] != participants.loc[index, 'assigned_couple_id']:\n",
    "                id_l.remove(id_l[rand_id])\n",
    "                needs_assignment = False\n",
    "        \n",
    "        # escape before hitting infite loop scenario\n",
    "        if (len(id_l) == 2):\n",
    "            remaining_couples_l = participants.couple_id.ix[id_l].tolist()\n",
    "            if (remaining_couples_l[0] == remaining_couples_l[1]):\n",
    "                break\n",
    "    \n",
    "    if len(participants[participants.assigned_id.isnull()]) == 0:\n",
    "        make_assignments = False\n",
    "        \n",
    "        \n",
    "\n",
    "participants.columns"
   ]
  },
  {
   "cell_type": "code",
   "execution_count": null,
   "metadata": {
    "collapsed": true
   },
   "outputs": [],
   "source": [
    "# save to csv\n",
    "participants.to_csv('participants_with_assignments.csv')"
   ]
  },
  {
   "cell_type": "markdown",
   "metadata": {},
   "source": [
    "### 2. text instructions and assignments"
   ]
  },
  {
   "cell_type": "code",
   "execution_count": null,
   "metadata": {
    "collapsed": true
   },
   "outputs": [],
   "source": [
    "import pandas as pd\n",
    "import requests\n",
    "import time\n",
    "\n",
    "with open('textbelt_api.txt') as f:\n",
    "    textbelt_cred = f.read().split('\\n')\n",
    "\n",
    "participants = pd.read_csv('participants_with_assignments.csv', index_col='id')"
   ]
  },
  {
   "cell_type": "code",
   "execution_count": null,
   "metadata": {
    "collapsed": false
   },
   "outputs": [],
   "source": [
    "for index, row in participants.iterrows():\n",
    "    msg_s = '''\n",
    "Hello %s, welcome to Jensen Christmas Scoopganza 2017! \n",
    "\n",
    "ScoopBot here to spread Christmas cheer, and today that means facilitating Secret Santa.\n",
    "\n",
    "The rules of Secret Santa are easy:\n",
    "1. I assign you someone else from the group. Keep it secret, keep it safe (until X-Mas day).\n",
    "2. You buy $15 - $25 worth of shit that will blow their minds.\n",
    "3. On Christmas day, blow their minds with your generousity and thoughtfulness. \n",
    "\n",
    "Hold onto your butt, because your secret santa assignment is:\n",
    "%s\n",
    "\n",
    "If you don't know %s very well, I'd suggest asking around for someone to point you in the right direction.\n",
    "\n",
    "SCOOP!\n",
    "''' % (row['name'], row['assigned_name'], row['assigned_name'])\n",
    "    \n",
    "    response = requests.post('https://textbelt.com/text', {\n",
    "      'phone': row['phone_number'],\n",
    "      'message': msg_s,\n",
    "      'key': textbelt_cred[0],\n",
    "    })\n",
    "        \n",
    "    print '%s of %s' % (index, len(participants))\n",
    "    print response.text\n",
    "    print 'To %s; %s' % (row['name'], row['phone_number'])\n",
    "    print\n",
    "    \n",
    "    time.sleep(4)"
   ]
  }
 ],
 "metadata": {
  "kernelspec": {
   "display_name": "Python 2",
   "language": "python",
   "name": "python2"
  },
  "language_info": {
   "codemirror_mode": {
    "name": "ipython",
    "version": 2
   },
   "file_extension": ".py",
   "mimetype": "text/x-python",
   "name": "python",
   "nbconvert_exporter": "python",
   "pygments_lexer": "ipython2",
   "version": "2.7.13"
  }
 },
 "nbformat": 4,
 "nbformat_minor": 2
}
