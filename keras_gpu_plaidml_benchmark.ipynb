{
 "cells": [
  {
   "cell_type": "markdown",
   "metadata": {},
   "source": [
    "# benchmarking using osx & radeon gpu on keras + plaidml\n",
    "\n",
    "https://medium.com/@danbrice.datascience/deep-learning-on-a-mac-with-amd-gpu-4be1f18944a"
   ]
  },
  {
   "cell_type": "markdown",
   "metadata": {},
   "source": [
    "### prep"
   ]
  },
  {
   "cell_type": "code",
   "execution_count": 1,
   "metadata": {},
   "outputs": [
    {
     "name": "stderr",
     "output_type": "stream",
     "text": [
      "/Users/jj/anaconda3/lib/python3.6/site-packages/h5py/__init__.py:36: FutureWarning: Conversion of the second argument of issubdtype from `float` to `np.floating` is deprecated. In future, it will be treated as `np.float64 == np.dtype(float).type`.\n",
      "  from ._conv import register_converters as _register_converters\n",
      "Using TensorFlow backend.\n"
     ]
    }
   ],
   "source": [
    "import keras\n",
    "import os\n",
    "import numpy as np"
   ]
  },
  {
   "cell_type": "code",
   "execution_count": 2,
   "metadata": {},
   "outputs": [
    {
     "data": {
      "text/plain": [
       "(60000, 28, 28)"
      ]
     },
     "execution_count": 2,
     "metadata": {},
     "output_type": "execute_result"
    }
   ],
   "source": [
    "(X_train, y_train), (X_test, y_test) = keras.datasets.mnist.load_data()\n",
    "\n",
    "X_train.shape"
   ]
  },
  {
   "cell_type": "code",
   "execution_count": 3,
   "metadata": {},
   "outputs": [
    {
     "data": {
      "text/plain": [
       "(60000,)"
      ]
     },
     "execution_count": 3,
     "metadata": {},
     "output_type": "execute_result"
    }
   ],
   "source": [
    "test = 'hello'\n",
    "y_train.shape"
   ]
  },
  {
   "cell_type": "code",
   "execution_count": 4,
   "metadata": {},
   "outputs": [
    {
     "data": {
      "text/plain": [
       "'hello'"
      ]
     },
     "execution_count": 4,
     "metadata": {},
     "output_type": "execute_result"
    }
   ],
   "source": [
    "test"
   ]
  },
  {
   "cell_type": "code",
   "execution_count": 5,
   "metadata": {},
   "outputs": [
    {
     "data": {
      "text/plain": [
       "(10000, 28, 28)"
      ]
     },
     "execution_count": 5,
     "metadata": {},
     "output_type": "execute_result"
    }
   ],
   "source": [
    "X_test.shape"
   ]
  },
  {
   "cell_type": "code",
   "execution_count": 6,
   "metadata": {},
   "outputs": [
    {
     "data": {
      "text/plain": [
       "(60000, 10)"
      ]
     },
     "execution_count": 6,
     "metadata": {},
     "output_type": "execute_result"
    }
   ],
   "source": [
    "# one hot\n",
    "n_categories = len(np.unique(y_train))\n",
    "y_train = keras.utils.to_categorical(y_train, n_categories)\n",
    "y_test = keras.utils.to_categorical(y_test, n_categories)\n",
    "\n",
    "y_train.shape"
   ]
  },
  {
   "cell_type": "code",
   "execution_count": 7,
   "metadata": {},
   "outputs": [
    {
     "data": {
      "text/plain": [
       "(10000, 28, 28, 1)"
      ]
     },
     "execution_count": 7,
     "metadata": {},
     "output_type": "execute_result"
    }
   ],
   "source": [
    "# normalize\n",
    "def normalize(X):\n",
    "    X = X.reshape(X.shape[0], X.shape[1], X.shape[2], 1)\n",
    "    X = X.astype('float32')\n",
    "    X /= 255\n",
    "    \n",
    "    return X\n",
    "\n",
    "X_train = normalize(X_train)\n",
    "X_test = normalize(X_test)\n",
    "\n",
    "X_test.shape"
   ]
  },
  {
   "cell_type": "code",
   "execution_count": 8,
   "metadata": {},
   "outputs": [],
   "source": [
    "def get_mnist_cnn_model(n_categories):\n",
    "    model = keras.models.Sequential()\n",
    "    model.add(keras.layers.Conv2D(filters=32, \n",
    "                                  kernel_size=(3,3), \n",
    "                                  activation='relu',\n",
    "                                  input_shape=(28,28,1)))\n",
    "    model.add(keras.layers.MaxPooling2D((2,2)))\n",
    "    model.add(keras.layers.Conv2D(filters=64,\n",
    "                                 kernel_size=(3,3),\n",
    "                                 activation='relu'))\n",
    "    model.add(keras.layers.MaxPooling2D((2,2)))\n",
    "    model.add(keras.layers.Conv2D(filters=64,\n",
    "                                 kernel_size=(3,3),\n",
    "                                 activation='relu'))\n",
    "    model.add(keras.layers.Flatten())\n",
    "    model.add(keras.layers.Dense(64,\n",
    "                                activation='relu'))\n",
    "    model.add(keras.layers.Dense(n_categories,\n",
    "                                activation='softmax'))\n",
    "\n",
    "\n",
    "    model.compile(loss=keras.losses.categorical_crossentropy,\n",
    "                 optimizer=keras.optimizers.Adam(),\n",
    "                 metrics=['accuracy'])\n",
    "    \n",
    "    return model"
   ]
  },
  {
   "cell_type": "markdown",
   "metadata": {},
   "source": [
    "### params"
   ]
  },
  {
   "cell_type": "code",
   "execution_count": 14,
   "metadata": {},
   "outputs": [],
   "source": [
    "EPOCHS = 15\n",
    "BATCH_SIZE = 100"
   ]
  },
  {
   "cell_type": "markdown",
   "metadata": {},
   "source": [
    "## CPU w/ tensorflow"
   ]
  },
  {
   "cell_type": "code",
   "execution_count": 10,
   "metadata": {},
   "outputs": [
    {
     "data": {
      "text/plain": [
       "'tensorflow'"
      ]
     },
     "execution_count": 10,
     "metadata": {},
     "output_type": "execute_result"
    }
   ],
   "source": [
    "keras.backend.backend()"
   ]
  },
  {
   "cell_type": "code",
   "execution_count": 11,
   "metadata": {},
   "outputs": [
    {
     "data": {
      "text/plain": [
       "[]"
      ]
     },
     "execution_count": 11,
     "metadata": {},
     "output_type": "execute_result"
    }
   ],
   "source": [
    "keras.backend.tensorflow_backend._get_available_gpus()"
   ]
  },
  {
   "cell_type": "code",
   "execution_count": 12,
   "metadata": {},
   "outputs": [
    {
     "name": "stdout",
     "output_type": "stream",
     "text": [
      "WARNING:tensorflow:From /Users/jj/anaconda3/lib/python3.6/site-packages/tensorflow/python/framework/op_def_library.py:263: colocate_with (from tensorflow.python.framework.ops) is deprecated and will be removed in a future version.\n",
      "Instructions for updating:\n",
      "Colocations handled automatically by placer.\n"
     ]
    }
   ],
   "source": [
    "model_cpu = get_mnist_cnn_model(n_categories)"
   ]
  },
  {
   "cell_type": "code",
   "execution_count": 13,
   "metadata": {},
   "outputs": [
    {
     "name": "stdout",
     "output_type": "stream",
     "text": [
      "WARNING:tensorflow:From /Users/jj/anaconda3/lib/python3.6/site-packages/tensorflow/python/ops/math_ops.py:3066: to_int32 (from tensorflow.python.ops.math_ops) is deprecated and will be removed in a future version.\n",
      "Instructions for updating:\n",
      "Use tf.cast instead.\n",
      "Epoch 1/15\n",
      "60000/60000 [==============================] - 26s 439us/step - loss: 0.2194 - acc: 0.9354\n",
      "Epoch 2/15\n",
      "60000/60000 [==============================] - 25s 420us/step - loss: 0.0519 - acc: 0.9836\n",
      "Epoch 3/15\n",
      "60000/60000 [==============================] - 25s 415us/step - loss: 0.0376 - acc: 0.9885\n",
      "Epoch 4/15\n",
      "60000/60000 [==============================] - 25s 419us/step - loss: 0.0293 - acc: 0.9907\n",
      "Epoch 5/15\n",
      "60000/60000 [==============================] - 25s 417us/step - loss: 0.0234 - acc: 0.9927\n",
      "Epoch 6/15\n",
      "60000/60000 [==============================] - 25s 414us/step - loss: 0.0196 - acc: 0.9938\n",
      "Epoch 7/15\n",
      "60000/60000 [==============================] - 25s 408us/step - loss: 0.0164 - acc: 0.9949\n",
      "Epoch 8/15\n",
      "60000/60000 [==============================] - 25s 414us/step - loss: 0.0133 - acc: 0.9958\n",
      "Epoch 9/15\n",
      "60000/60000 [==============================] - 25s 409us/step - loss: 0.0124 - acc: 0.9958\n",
      "Epoch 10/15\n",
      "60000/60000 [==============================] - 25s 411us/step - loss: 0.0108 - acc: 0.9965\n",
      "Epoch 11/15\n",
      "60000/60000 [==============================] - 25s 411us/step - loss: 0.0094 - acc: 0.9968\n",
      "Epoch 12/15\n",
      "60000/60000 [==============================] - 24s 408us/step - loss: 0.0076 - acc: 0.9975\n",
      "Epoch 13/15\n",
      "60000/60000 [==============================] - 24s 403us/step - loss: 0.0069 - acc: 0.9977\n",
      "Epoch 14/15\n",
      "60000/60000 [==============================] - 24s 399us/step - loss: 0.0063 - acc: 0.9978\n",
      "Epoch 15/15\n",
      "60000/60000 [==============================] - 24s 401us/step - loss: 0.0074 - acc: 0.9976\n",
      "CPU times: user 14min 53s, sys: 3min 6s, total: 17min 59s\n",
      "Wall time: 6min 11s\n"
     ]
    },
    {
     "data": {
      "text/plain": [
       "<keras.callbacks.History at 0x12798d518>"
      ]
     },
     "execution_count": 13,
     "metadata": {},
     "output_type": "execute_result"
    }
   ],
   "source": [
    "%%time\n",
    "\n",
    "model_cpu.fit(X_train, y_train,\n",
    "             batch_size=BATCH_SIZE,\n",
    "             epochs=EPOCHS,\n",
    "             verbose=1)"
   ]
  },
  {
   "cell_type": "code",
   "execution_count": 14,
   "metadata": {},
   "outputs": [
    {
     "name": "stdout",
     "output_type": "stream",
     "text": [
      "10000/10000 [==============================] - 1s 111us/step\n"
     ]
    },
    {
     "data": {
      "text/plain": [
       "[0.0314761482036105, 0.9913]"
      ]
     },
     "execution_count": 14,
     "metadata": {},
     "output_type": "execute_result"
    }
   ],
   "source": [
    "model_cpu.evaluate(X_test, y_test, verbose=1)"
   ]
  },
  {
   "cell_type": "markdown",
   "metadata": {},
   "source": [
    "## GPU w/ plaidml"
   ]
  },
  {
   "cell_type": "code",
   "execution_count": 39,
   "metadata": {},
   "outputs": [
    {
     "name": "stderr",
     "output_type": "stream",
     "text": [
      "Using plaidml.keras.backend backend.\n"
     ]
    },
    {
     "data": {
      "text/plain": [
       "<module 'keras.backend' from '/Users/jj/anaconda3/lib/python3.6/site-packages/keras/backend/__init__.py'>"
      ]
     },
     "execution_count": 39,
     "metadata": {},
     "output_type": "execute_result"
    }
   ],
   "source": [
    "os.environ['KERAS_BACKEND'] = 'plaidml.keras.backend'\n",
    "\n",
    "import importlib\n",
    "importlib.reload(keras.backend)"
   ]
  },
  {
   "cell_type": "code",
   "execution_count": 15,
   "metadata": {},
   "outputs": [
    {
     "data": {
      "text/plain": [
       "'plaidml.keras.backend'"
      ]
     },
     "execution_count": 15,
     "metadata": {},
     "output_type": "execute_result"
    }
   ],
   "source": [
    "keras.backend.backend()"
   ]
  },
  {
   "cell_type": "code",
   "execution_count": 16,
   "metadata": {},
   "outputs": [],
   "source": [
    "model_gpu = get_mnist_cnn_model(n_categories)"
   ]
  },
  {
   "cell_type": "code",
   "execution_count": 17,
   "metadata": {},
   "outputs": [
    {
     "name": "stdout",
     "output_type": "stream",
     "text": [
      "Epoch 1/15\n",
      "60000/60000 [==============================] - 11s 185us/step - loss: 0.2101 - acc: 0.9372\n",
      "Epoch 2/15\n",
      "60000/60000 [==============================] - 10s 169us/step - loss: 0.0570 - acc: 0.9823\n",
      "Epoch 3/15\n",
      "60000/60000 [==============================] - 10s 172us/step - loss: 0.0398 - acc: 0.9876\n",
      "Epoch 4/15\n",
      "60000/60000 [==============================] - 10s 170us/step - loss: 0.0303 - acc: 0.9905\n",
      "Epoch 5/15\n",
      "60000/60000 [==============================] - 10s 169us/step - loss: 0.0256 - acc: 0.9916\n",
      "Epoch 6/15\n",
      "60000/60000 [==============================] - 10s 169us/step - loss: 0.0214 - acc: 0.9930\n",
      "Epoch 7/15\n",
      "60000/60000 [==============================] - 10s 169us/step - loss: 0.0184 - acc: 0.9939\n",
      "Epoch 8/15\n",
      "60000/60000 [==============================] - 10s 169us/step - loss: 0.0149 - acc: 0.9951\n",
      "Epoch 9/15\n",
      "60000/60000 [==============================] - 10s 171us/step - loss: 0.0138 - acc: 0.9953\n",
      "Epoch 10/15\n",
      "60000/60000 [==============================] - 10s 169us/step - loss: 0.0107 - acc: 0.9963\n",
      "Epoch 11/15\n",
      "60000/60000 [==============================] - 10s 170us/step - loss: 0.0106 - acc: 0.9966\n",
      "Epoch 12/15\n",
      "60000/60000 [==============================] - 10s 170us/step - loss: 0.0095 - acc: 0.9968\n",
      "Epoch 13/15\n",
      "60000/60000 [==============================] - 10s 168us/step - loss: 0.0081 - acc: 0.9973\n",
      "Epoch 14/15\n",
      "60000/60000 [==============================] - 10s 169us/step - loss: 0.0069 - acc: 0.9979\n",
      "Epoch 15/15\n",
      "60000/60000 [==============================] - 10s 169us/step - loss: 0.0080 - acc: 0.9972\n",
      "CPU times: user 1min 11s, sys: 1min 4s, total: 2min 15s\n",
      "Wall time: 2min 33s\n"
     ]
    },
    {
     "data": {
      "text/plain": [
       "<keras.callbacks.History at 0x1a16067d68>"
      ]
     },
     "execution_count": 17,
     "metadata": {},
     "output_type": "execute_result"
    }
   ],
   "source": [
    "%%time\n",
    "\n",
    "model_gpu.fit(X_train, y_train,\n",
    "             batch_size=BATCH_SIZE,\n",
    "             epochs=EPOCHS,\n",
    "             verbose=1)"
   ]
  },
  {
   "cell_type": "code",
   "execution_count": 18,
   "metadata": {},
   "outputs": [
    {
     "name": "stdout",
     "output_type": "stream",
     "text": [
      "10000/10000 [==============================] - 1s 140us/step\n"
     ]
    },
    {
     "data": {
      "text/plain": [
       "[0.03283998546600342, 0.9918]"
      ]
     },
     "execution_count": 18,
     "metadata": {},
     "output_type": "execute_result"
    }
   ],
   "source": [
    "model_gpu.evaluate(X_test, y_test, verbose=1)"
   ]
  },
  {
   "cell_type": "markdown",
   "metadata": {},
   "source": [
    "# conclusion\n",
    "\n",
    "Wall time comps:\n",
    "- cpu via tensorflow backend: 6min 11s\n",
    "- gpu via plaidml backend: 2min 33s"
   ]
  }
 ],
 "metadata": {
  "kernelspec": {
   "display_name": "Python 3",
   "language": "python",
   "name": "python3"
  },
  "language_info": {
   "codemirror_mode": {
    "name": "ipython",
    "version": 3
   },
   "file_extension": ".py",
   "mimetype": "text/x-python",
   "name": "python",
   "nbconvert_exporter": "python",
   "pygments_lexer": "ipython3",
   "version": "3.6.4"
  }
 },
 "nbformat": 4,
 "nbformat_minor": 2
}
